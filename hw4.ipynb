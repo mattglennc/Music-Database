{
 "cells": [
  {
   "cell_type": "code",
   "execution_count": 1,
   "id": "4921926b-f803-48c8-96df-7fa015271a6f",
   "metadata": {},
   "outputs": [],
   "source": [
    "# import connector module\n",
    "import mysql.connector\n",
    "import csv\n",
    "def doquery(query):\n",
    "    cursor.execute(query)\n",
    "    res = cursor.fetchall()\n",
    "    for row in res:\n",
    "        print(row)"
   ]
  },
  {
   "cell_type": "code",
   "execution_count": 2,
   "id": "e87f278b-8f8d-4b00-bb17-4ade6563fa16",
   "metadata": {},
   "outputs": [],
   "source": [
    "# connect to nobels database\n",
    "mydb = mysql.connector.connect(\n",
    "  host=\"localhost\",\n",
    "  user=\"mgc109\",    # replace with your non-root username\n",
    "  passwd=\"Jan10apr5!!\",  # replace with your password\n",
    "  database=\"music\"\n",
    ")"
   ]
  },
  {
   "cell_type": "code",
   "execution_count": 3,
   "id": "5f315e5d-485f-4ba4-855b-59f6931f5ae4",
   "metadata": {},
   "outputs": [],
   "source": [
    "# set up for access\n",
    "cursor = mydb.cursor()"
   ]
  },
  {
   "cell_type": "code",
   "execution_count": 4,
   "id": "b721d830-a088-48fa-9dc2-3f451676aeea",
   "metadata": {},
   "outputs": [
    {
     "name": "stdout",
     "output_type": "stream",
     "text": [
      "rating\n",
      "song_playlist\n",
      "playlist\n",
      "user\n",
      "song_genre\n",
      "song\n",
      "album\n",
      "artist\n"
     ]
    }
   ],
   "source": [
    "tables = ['rating','song_playlist','playlist','user','song_genre','song','album','artist']\n",
    "for table in tables:\n",
    "    print(table)\n",
    "    cursor.execute('delete from ' + table)"
   ]
  },
  {
   "cell_type": "code",
   "execution_count": 5,
   "id": "793f3fc3-8c83-4bf0-89a9-678e92a9e88c",
   "metadata": {},
   "outputs": [],
   "source": [
    "add_artist = \"insert into artist values(%s, %s)\"\n",
    "add_album =\"insert into album values(%s,%s,%s)\"\n",
    "add_song =\"insert into song values(%s,%s,%s,%s,%s,%s)\"\n",
    "add_song_genre = \"insert into song_genre values(%s, %s)\"\n",
    "add_user = \"insert into user values(%s)\"\n",
    "add_playlist =\"insert into playlist values(%s,%s,%s,%s,%s)\"\n",
    "add_song_playlist = \"insert into song_playlist values(%s, %s)\"\n",
    "add_rating = \"insert into rating values(%s, %s, %s, %s, %s, %s, %s)\""
   ]
  },
  {
   "cell_type": "code",
   "execution_count": 6,
   "id": "65d25199-d5bc-4f68-9e8d-1495dd552f49",
   "metadata": {},
   "outputs": [],
   "source": [
    "cursor.execute('select * from artist')\n",
    "res = cursor.fetchall()"
   ]
  },
  {
   "cell_type": "code",
   "execution_count": 7,
   "id": "c1ef3ac6-0578-4b85-9b1c-7ad510541b05",
   "metadata": {},
   "outputs": [],
   "source": [
    "reader = csv.DictReader(open('artists.csv'))\n",
    "for index,row in enumerate(reader):\n",
    "    cursor.execute(add_artist,(index+1,row['artist_name']))\n",
    "mydb.commit()  "
   ]
  },
  {
   "cell_type": "code",
   "execution_count": 8,
   "id": "3d24b8e4-34c1-459d-9bc2-70b462a6bcfc",
   "metadata": {},
   "outputs": [
    {
     "name": "stdout",
     "output_type": "stream",
     "text": [
      "(1, 'Aerosmith')\n",
      "(2, 'David Bowie')\n",
      "(3, 'Queen')\n",
      "(4, 'Louis Armstrong')\n",
      "(5, 'Elvis Presley')\n",
      "(6, 'The Doors')\n",
      "(7, 'Elton John')\n",
      "(8, 'Benny Goodman')\n",
      "(9, 'Luke Combs')\n",
      "(10, 'BTS')\n",
      "(11, 'BABYMETAL')\n",
      "(12, 'Snoop Dogg')\n",
      "(13, 'Bad Bunny')\n",
      "(14, 'The Captain and Tenille')\n",
      "(15, 'Looking Glass')\n",
      "(16, 'Olivia Rodrigo')\n"
     ]
    }
   ],
   "source": [
    "cursor.execute('select * from artist order by id')\n",
    "res = cursor.fetchall()\n",
    "for row in res:\n",
    "    print(row)"
   ]
  },
  {
   "cell_type": "code",
   "execution_count": 9,
   "id": "dcf2c3b1-1deb-4d09-b8bd-4d53f9ea926e",
   "metadata": {},
   "outputs": [],
   "source": [
    "reader = csv.DictReader(open('albums.csv'))\n",
    "for index,row in enumerate(reader):\n",
    "    idx = index+1\n",
    "    cursor.execute(add_album,(idx,row['album_title'],row['artist_id']))\n",
    "mydb.commit()  "
   ]
  },
  {
   "cell_type": "code",
   "execution_count": 10,
   "id": "eecc26f4-ca1f-4e74-8a50-75dfe4ead56f",
   "metadata": {},
   "outputs": [
    {
     "name": "stdout",
     "output_type": "stream",
     "text": [
      "(1, 'Toys in the Attic', 1)\n",
      "(2, 'David Bowie', 2)\n",
      "(3, 'The Man Who Sold the World', 2)\n",
      "(4, 'A Night at the Opera', 3)\n",
      "(5, 'Disney Songs the Satchmo Way', 4)\n",
      "(6, 'The Doors', 6)\n",
      "(7, 'Strange Days', 6)\n",
      "(8, 'Empty Sky', 7)\n",
      "(9, 'Elton John', 7)\n",
      "(10, 'Tumbleweed Connection', 7)\n",
      "(11, 'Madman Across the Water', 7)\n",
      "(12, 'Goodbye Yellow Brick Road', 7)\n",
      "(13, 'Caribou', 7)\n",
      "(14, 'Today', 5)\n",
      "(15, 'Moody Blue', 5)\n",
      "(16, 'B.G. in Hi-Fi', 8)\n",
      "(17, \"This One's for You\", 9)\n",
      "(18, 'What You See is What You Get', 9)\n",
      "(19, 'The Way She Rides', 9)\n",
      "(20, 'The Prequel', 9)\n",
      "(21, 'Dark & Wild', 10)\n",
      "(22, 'You Never Walk Alone', 10)\n",
      "(23, 'Youth', 10)\n",
      "(24, 'Face Yourself', 10)\n",
      "(25, 'Map of the Soul: 7', 10)\n",
      "(26, 'Metal Galaxy', 11)\n",
      "(27, 'Metal Resistance', 11)\n",
      "(28, 'Babymetal', 11)\n",
      "(29, 'Doggystyle', 12)\n",
      "(30, 'Tha Doggfather', 12)\n",
      "(31, 'Tha Last Meal', 12)\n",
      "(32, 'X 100pre', 13)\n",
      "(33, 'YHLQMDLG', 13)\n",
      "(34, 'El Ãšltimo Tour del Mundo', 13)\n",
      "(35, 'Love Will Keep Us Together', 14)\n",
      "(36, 'Song of Joy', 14)\n",
      "(37, 'Looking Glass', 15)\n"
     ]
    }
   ],
   "source": [
    "cursor.execute('select * from album')\n",
    "res = cursor.fetchall()\n",
    "for row in res:\n",
    "    print(row)"
   ]
  },
  {
   "cell_type": "code",
   "execution_count": 11,
   "id": "cea85f89-d15f-498b-9790-e0e4db98fb7d",
   "metadata": {},
   "outputs": [],
   "source": [
    "reader = csv.DictReader(open('songs.csv'))\n",
    "for index,row in enumerate(reader):\n",
    "    albumId = row['album_id']\n",
    "    singleDate = row['single_release']\n",
    "    albumDate = row['album_release']\n",
    "    if(singleDate == ''): singleDate = None\n",
    "    if(albumId == ''):\n",
    "        albumId = None\n",
    "        albumDate = None\n",
    "    cursor.execute(add_song,(row['id'],row['song_title'],row['artist_id'],albumId,albumDate,singleDate))\n",
    "mydb.commit()  "
   ]
  },
  {
   "cell_type": "code",
   "execution_count": 12,
   "id": "3b53e483-fc8e-49e4-b0a0-0f3c4e461be4",
   "metadata": {},
   "outputs": [
    {
     "name": "stdout",
     "output_type": "stream",
     "text": [
      "(1, 'Toys in the Attic', 1, 1, datetime.date(1975, 4, 8), None)\n",
      "(2, 'Walk This Way', 1, 1, datetime.date(1975, 4, 8), None)\n",
      "(3, 'Space Oddity', 2, 2, datetime.date(1969, 11, 14), None)\n",
      "(4, 'Under Pressure', 2, None, None, datetime.date(1981, 10, 26))\n",
      "(5, 'After All', 2, 3, datetime.date(1970, 11, 4), None)\n",
      "(6, 'Bohemian Rhapsody', 3, 4, datetime.date(1975, 11, 21), None)\n",
      "(7, 'Sweet Lady', 3, 4, datetime.date(1975, 11, 21), None)\n",
      "(8, 'The Bare Necessities', 4, 5, datetime.date(1968, 5, 1), None)\n",
      "(9, 'What a Wonderful World', 4, None, None, datetime.date(1967, 9, 1))\n",
      "(10, 'Soul Kitchen', 6, 6, datetime.date(1967, 1, 4), None)\n",
      "(11, 'People Are Strange', 6, 7, datetime.date(1967, 9, 25), None)\n",
      "(12, 'Empty Sky', 7, 8, datetime.date(1969, 6, 6), None)\n",
      "(13, 'Your Song', 7, 9, datetime.date(1970, 4, 10), None)\n",
      "(14, 'Come Down In Time', 7, 10, datetime.date(1970, 10, 30), None)\n",
      "(15, 'Tiny Dancer', 7, 11, datetime.date(1971, 11, 5), None)\n",
      "(16, 'Harmony', 7, 12, datetime.date(1973, 10, 5), None)\n",
      "(17, 'Pinky', 7, 13, datetime.date(1974, 6, 28), None)\n",
      "(18, 'Can You Feel The Love Tonight', 7, None, None, datetime.date(2007, 1, 1))\n",
      "(19, 'I Can Help', 5, 14, datetime.date(1975, 5, 7), None)\n",
      "(20, 'Moody Blue', 5, 15, datetime.date(1977, 7, 19), None)\n",
      "(21, \"Don't Be Cruel\", 5, None, None, datetime.date(1956, 2, 2))\n",
      "(22, \"Stompin' at the Savoy\", 8, 16, datetime.date(1954, 1, 1), None)\n",
      "(23, 'Out There', 9, 17, datetime.date(2017, 6, 2), None)\n",
      "(24, 'Refrigerator Door', 9, 18, datetime.date(2019, 11, 8), None)\n",
      "(25, 'The Way She Rides', 9, 19, datetime.date(2014, 2, 4), None)\n",
      "(26, 'Danger', 10, 21, datetime.date(2014, 9, 19), None)\n",
      "(27, 'War of Hormone', 10, 21, datetime.date(2014, 9, 19), None)\n",
      "(28, 'Blood Sweat & Tears', 10, 22, datetime.date(2017, 2, 13), None)\n",
      "(29, 'Good Day', 10, 23, datetime.date(2016, 9, 7), None)\n",
      "(30, 'Crystal Snow', 10, 24, datetime.date(2018, 4, 4), None)\n",
      "(31, 'Filter', 10, 25, datetime.date(2020, 2, 21), None)\n",
      "(32, 'Permission to Dance', 10, None, None, datetime.date(2021, 7, 9))\n",
      "(33, 'PA PA YA!!', 11, 26, datetime.date(2019, 10, 8), None)\n",
      "(34, 'KARATE', 11, 27, datetime.date(2016, 3, 29), None)\n",
      "(35, 'Line!', 11, 28, datetime.date(2014, 2, 26), None)\n",
      "(36, 'Bathtub', 12, 29, datetime.date(1993, 11, 23), None)\n",
      "(37, 'Ride 4 Me', 12, 30, datetime.date(1996, 11, 12), None)\n",
      "(38, 'Wrong Idea', 12, 31, datetime.date(2000, 12, 19), None)\n",
      "(39, 'Go Away', 12, 31, datetime.date(2000, 12, 19), None)\n",
      "(40, \"Drop It Like It's Hot\", 12, None, None, datetime.date(2004, 9, 27))\n",
      "(41, 'Pero Ya No', 13, 33, datetime.date(2020, 2, 29), None)\n",
      "(42, 'TRELLAS', 13, 34, datetime.date(2020, 11, 27), None)\n",
      "(43, 'Caro', 13, 32, datetime.date(2018, 12, 24), None)\n",
      "(44, 'Love Will Keep Us Together', 14, 35, datetime.date(1975, 5, 23), None)\n",
      "(45, 'Song of Joy', 14, 36, datetime.date(1976, 5, 27), None)\n",
      "(46, \"Brandy (You're a Fine Girl)\", 15, 37, datetime.date(1972, 6, 6), None)\n",
      "(47, \"driver's license\", 16, None, None, datetime.date(2021, 1, 8))\n",
      "(48, 'dÃ©jÃ\\xa0 vu', 16, None, None, datetime.date(2021, 4, 1))\n",
      "(49, 'good 4 u', 16, None, None, datetime.date(2021, 5, 14))\n"
     ]
    }
   ],
   "source": [
    "cursor.execute('select * from song')\n",
    "res = cursor.fetchall()\n",
    "for row in res:\n",
    "    print(row)"
   ]
  },
  {
   "cell_type": "code",
   "execution_count": 13,
   "id": "dbb0df60-9303-49a5-b7d8-ca29c1f5f49e",
   "metadata": {},
   "outputs": [
    {
     "name": "stdout",
     "output_type": "stream",
     "text": [
      "2. Find names of artists who have songs that are in albums as well as outside of albums (singles).\n",
      "('BTS',)\n",
      "('David Bowie',)\n",
      "('Elton John',)\n",
      "('Elvis Presley',)\n",
      "('Louis Armstrong',)\n",
      "('Snoop Dogg',)\n"
     ]
    }
   ],
   "source": [
    "print('2. Find names of artists who have songs that are in albums as well as outside of albums (singles).')\n",
    "\n",
    "query = 'select distinct artist_name from artist AR, song S\\\n",
    "        where S.artist_id = AR.id and S.artist_id in \\\n",
    "        (select artist_id from song where album_id is not null) \\\n",
    "        and S.artist_id in (select artist_id from song where single_release is not null)'\n",
    "\n",
    "\n",
    "doquery(query)"
   ]
  },
  {
   "cell_type": "code",
   "execution_count": 14,
   "id": "a38784d8-3dc1-4c54-9d49-aa6fd570f582",
   "metadata": {},
   "outputs": [
    {
     "name": "stdout",
     "output_type": "stream",
     "text": [
      "7. Find the top 10 most prolific artists (most number of songs) in the years 1990-2010? Count each song in an album individually.\n",
      "('Snoop Dogg', 5)\n",
      "('Elton John', 1)\n"
     ]
    }
   ],
   "source": [
    "print(\"7. Find the top 10 most prolific artists (most number of songs) in the years 1990-2010? Count each song in an album individually.\")\n",
    "query = 'select artist_name,count(*) as number_of_songs from song S, artist AR \\\n",
    "        where S.artist_id = AR.id \\\n",
    "        and ((year(S.album_release) between 1990 and 2010) or (year(S.single_release) between 1990 and 2010))group by artist_name \\\n",
    "        order by number_of_songs desc limit 10'\n",
    "doquery(query)"
   ]
  },
  {
   "cell_type": "code",
   "execution_count": 15,
   "id": "2628581a-e297-4374-b9d2-5d79cc0630a2",
   "metadata": {},
   "outputs": [
    {
     "name": "stdout",
     "output_type": "stream",
     "text": [
      "10. Find all artists who discontinued making music after 1993\n",
      "('Aerosmith',)\n",
      "('Benny Goodman',)\n",
      "('David Bowie',)\n",
      "('Elton John',)\n",
      "('Elvis Presley',)\n",
      "('Looking Glass',)\n",
      "('Louis Armstrong',)\n",
      "('Queen',)\n",
      "('Snoop Dogg',)\n",
      "('The Captain and Tenille',)\n",
      "('The Doors',)\n"
     ]
    }
   ],
   "source": [
    "print(\"10. Find all artists who discontinued making music after 1993\")\n",
    "query = 'select distinct artist_name as artist_title from song S, artist AR \\\n",
    "        where S.artist_id = AR.id \\\n",
    "        and ((year(S.album_release) <= 1993) or (year(S.single_release) <= 1993))'\n",
    "doquery(query)"
   ]
  },
  {
   "cell_type": "code",
   "execution_count": 16,
   "id": "a1be7788-957d-4251-9366-4c0e9b926246",
   "metadata": {},
   "outputs": [
    {
     "name": "stdout",
     "output_type": "stream",
     "text": [
      "(1, 'rock')\n",
      "(2, 'rock')\n",
      "(3, 'rock')\n",
      "(4, 'pop')\n",
      "(5, 'rock')\n",
      "(6, 'rock')\n",
      "(7, 'rock')\n",
      "(8, 'jazz')\n",
      "(9, 'jazz')\n",
      "(10, 'rock')\n",
      "(11, 'rock')\n",
      "(12, 'rock')\n",
      "(13, 'rock')\n",
      "(14, 'rock')\n",
      "(15, 'rock')\n",
      "(16, 'rock')\n",
      "(17, 'rock')\n",
      "(18, 'pop')\n",
      "(19, 'blues')\n",
      "(20, 'blues')\n",
      "(21, 'blues')\n",
      "(22, 'jazz')\n",
      "(23, 'country')\n",
      "(24, 'country')\n",
      "(25, 'country')\n",
      "(26, 'k-pop')\n",
      "(27, 'k-pop')\n",
      "(28, 'k-pop')\n",
      "(29, 'k-pop')\n",
      "(30, 'k-pop')\n",
      "(31, 'k-pop')\n",
      "(32, 'j-pop')\n",
      "(33, 'j-pop')\n",
      "(34, 'j-pop')\n",
      "(35, 'j-pop')\n",
      "(36, 'hip hop')\n",
      "(37, 'hip hop')\n",
      "(38, 'hip hop')\n",
      "(39, 'hip hop')\n",
      "(40, 'hip hop')\n",
      "(41, 'latin')\n",
      "(42, 'latin')\n",
      "(43, 'latin')\n",
      "(44, 'pop')\n",
      "(45, 'pop')\n",
      "(46, 'rock')\n",
      "(47, 'pop')\n",
      "(48, 'pop')\n",
      "(49, 'pop')\n",
      "(49, 'alt-rock')\n",
      "(43, 'reggaeton')\n",
      "(42, 'reggaeton')\n",
      "(40, 'r&b')\n",
      "(33, 'heavy metal')\n",
      "(34, 'heavy metal')\n",
      "(35, 'heavy metal')\n",
      "(32, 'pop')\n",
      "(22, 'big band')\n",
      "(3, 'alt-rock')\n",
      "(4, 'r&b')\n"
     ]
    }
   ],
   "source": [
    "reader = csv.DictReader(open('song_genres.csv'))\n",
    "for index,row in enumerate(reader):\n",
    "    cursor.execute(add_song_genre,(row['song_id'],row['genre_name']))\n",
    "cursor.execute('select * from song_genre')\n",
    "res = cursor.fetchall()\n",
    "for row in res:\n",
    "    print(row)\n",
    "mydb.commit()  "
   ]
  },
  {
   "cell_type": "code",
   "execution_count": 17,
   "id": "02839b59-12e5-4c5d-a709-874a5a0a2df3",
   "metadata": {},
   "outputs": [
    {
     "name": "stdout",
     "output_type": "stream",
     "text": [
      "1. Which 3 genres are most represented in terms of number of songs in that genre?\n",
      "('rock', 15)\n",
      "('pop', 8)\n",
      "('k-pop', 6)\n"
     ]
    }
   ],
   "source": [
    "print('1. Which 3 genres are most represented in terms of number of songs in that genre?')\n",
    "query = ('select genre, count(*) as number_of_songs from song_genre group by genre order by count(*) desc limit 3')\n",
    "doquery(query)"
   ]
  },
  {
   "cell_type": "code",
   "execution_count": 18,
   "id": "8560a8d5-a02e-444e-a438-8acec028d302",
   "metadata": {},
   "outputs": [
    {
     "name": "stdout",
     "output_type": "stream",
     "text": [
      "('bearfrom5plashMountain',)\n",
      "('bobTheTomato',)\n",
      "('cnwestfield1006South',)\n",
      "('cocoBAP',)\n",
      "('DavidThompson',)\n",
      "('doubleDribbleStork2019',)\n",
      "('flyingShadowTechnique',)\n",
      "('fruitPunchSamurai',)\n",
      "('futureOfPast07',)\n",
      "('gabigo45',)\n",
      "('larryTheCucumber',)\n",
      "('mgc109@rutgers',)\n",
      "('nestkyBTS',)\n",
      "('nopeengineer1',)\n",
      "('pittjosh4A',)\n",
      "('pstar7',)\n",
      "('pumpkineater69',)\n",
      "('thehappydragneel',)\n",
      "('willabyWallabyIII',)\n"
     ]
    }
   ],
   "source": [
    "reader = csv.DictReader(open('users.csv'))\n",
    "for index,row in enumerate(reader):\n",
    "    cursor.execute(add_user,(row['username'],))\n",
    "cursor.execute('select * from user')\n",
    "res = cursor.fetchall()\n",
    "for row in res:\n",
    "    print(row)\n",
    "mydb.commit()  "
   ]
  },
  {
   "cell_type": "code",
   "execution_count": 19,
   "id": "ee693b2a-3c69-4ca9-9aaa-e06924992718",
   "metadata": {},
   "outputs": [
    {
     "name": "stdout",
     "output_type": "stream",
     "text": [
      "(1, 'rockSongs', 'mgc109@rutgers', datetime.date(2020, 3, 19), datetime.timedelta(seconds=63360))\n",
      "(2, 'kPopSongs', 'nopeengineer1', datetime.date(2019, 4, 10), datetime.timedelta(seconds=55080))\n",
      "(3, 'musicCollection', 'flyingShadowTechnique', datetime.date(2018, 7, 10), datetime.timedelta(seconds=75360))\n",
      "(4, 'countryRock', 'gabigo45', datetime.date(2018, 6, 16), datetime.timedelta(seconds=19020))\n",
      "(5, 'drivingMusic', 'thehappydragneel', datetime.date(2021, 2, 20), datetime.timedelta(seconds=9180))\n",
      "(6, 'StudyBreak', 'pstar7', datetime.date(2019, 4, 14), datetime.timedelta(seconds=35100))\n",
      "(7, 'MyFavorites', 'bearfrom5plashMountain', datetime.date(2012, 2, 16), datetime.timedelta(seconds=27300))\n",
      "(8, 'GoldenOldies', 'willabyWallabyIII', datetime.date(2012, 5, 31), datetime.timedelta(seconds=63900))\n",
      "(9, 'Radio', 'pstar7', datetime.date(2003, 9, 29), datetime.timedelta(seconds=52620))\n",
      "(10, 'PartyPlaylist', 'fruitPunchSamurai', datetime.date(2018, 11, 26), datetime.timedelta(seconds=14280))\n",
      "(11, 'rockSongs', 'cocoBAP', datetime.date(2003, 10, 8), datetime.timedelta(seconds=45780))\n",
      "(12, 'AsianMusic!!', 'nestkyBTS', datetime.date(2015, 12, 14), datetime.timedelta(seconds=44820))\n",
      "(13, 'KingsofRock', 'fruitPunchSamurai', datetime.date(2006, 5, 11), datetime.timedelta(seconds=58020))\n",
      "(14, 'Classics', 'fruitPunchSamurai', datetime.date(2002, 2, 26), datetime.timedelta(seconds=64620))\n",
      "(15, 'JazzMen', 'willabyWallabyIII', datetime.date(2015, 2, 22), datetime.timedelta(seconds=32700))\n",
      "(16, 'AwesomeMix', 'futureOfPast07', datetime.date(2008, 7, 24), datetime.timedelta(seconds=82260))\n",
      "(17, 'AwesomeMixVol2', 'futureOfPast07', datetime.date(2002, 4, 6), datetime.timedelta(seconds=2880))\n",
      "(18, 'ILoveElton', 'pittjosh4A', datetime.date(2020, 8, 27), datetime.timedelta(seconds=85320))\n",
      "(19, 'ForeignMusic', 'pumpkineater69', datetime.date(2008, 12, 11), datetime.timedelta(seconds=18840))\n",
      "(20, 'Extreme', 'doubleDribbleStork2019', datetime.date(2007, 10, 11), datetime.timedelta(seconds=55860))\n",
      "(21, 'StudyBreak', 'cnwestfield1006South', datetime.date(2015, 2, 15), datetime.timedelta(seconds=75540))\n",
      "(22, 'RememberThese', 'larryTheCucumber', datetime.date(2015, 7, 13), datetime.timedelta(seconds=6420))\n",
      "(23, 'PartyPicks', 'larryTheCucumber', datetime.date(2016, 7, 15), datetime.timedelta(seconds=29640))\n",
      "(24, 'ElvisAndDoors', 'bobTheTomato', datetime.date(2006, 8, 1), datetime.timedelta(seconds=74280))\n",
      "(25, '2000sAndBeyond', 'DavidThompson', datetime.date(2009, 5, 7), datetime.timedelta(seconds=25620))\n",
      "(26, '20thCentury', 'DavidThompson', datetime.date(2021, 11, 24), datetime.timedelta(seconds=59220))\n",
      "(27, '90s', 'DavidThompson', datetime.date(2007, 2, 27), datetime.timedelta(seconds=59400))\n",
      "(28, '70s', 'DavidThompson', datetime.date(2010, 1, 17), datetime.timedelta(seconds=61140))\n",
      "(29, '80s', 'DavidThompson', datetime.date(2011, 4, 25), datetime.timedelta(seconds=9900))\n"
     ]
    }
   ],
   "source": [
    "reader = csv.DictReader(open('playlists.csv'))\n",
    "for index,row in enumerate(reader):\n",
    "    cursor.execute(add_playlist,(row['id'],row['playlist_title'],row['user'],row['date'],row['time']))\n",
    "cursor.execute('select * from playlist')\n",
    "res = cursor.fetchall()\n",
    "for row in res:\n",
    "    print(row)\n",
    "mydb.commit()  "
   ]
  },
  {
   "cell_type": "code",
   "execution_count": 20,
   "id": "df761049-0c78-4cb7-820b-c81c53ee13f2",
   "metadata": {},
   "outputs": [],
   "source": [
    "reader = csv.DictReader(open('song_playlists.csv'))\n",
    "for index,row in enumerate(reader):\n",
    "    cursor.execute(add_song_playlist,(row['song_id'],row['playlist']))\n",
    "cursor.execute('select * from song_playlist')\n",
    "res = cursor.fetchall()\n",
    "mydb.commit()  "
   ]
  },
  {
   "cell_type": "code",
   "execution_count": 21,
   "id": "da9ffde8-4039-433f-9e85-dbd0da679e57",
   "metadata": {},
   "outputs": [
    {
     "name": "stdout",
     "output_type": "stream",
     "text": [
      "8. Find the top 10 songs that are in most number of playlists. Break ties in alphabetical order of song titles.\n",
      "('Walk This Way', 12)\n",
      "('Moody Blue', 11)\n",
      "(\"Don't Be Cruel\", 10)\n",
      "('People Are Strange', 10)\n",
      "('Soul Kitchen', 10)\n",
      "('Come Down In Time', 9)\n",
      "('Harmony', 9)\n",
      "('Line!', 9)\n",
      "('Tiny Dancer', 9)\n",
      "('Toys in the Attic', 9)\n"
     ]
    }
   ],
   "source": [
    "print(\"8. Find the top 10 songs that are in most number of playlists. Break ties in alphabetical order of song titles.\")\n",
    "query = (\"select song_title,count(*) as number_of_playlists from song S, song_playlist SP \\\n",
    "            where SP.song_id = S.id group by S.song_title order by count(*) desc,S.song_title limit 10\")\n",
    "doquery(query)"
   ]
  },
  {
   "cell_type": "code",
   "execution_count": 22,
   "id": "207e8fe0-d38e-46cf-92ed-836a713f8b3a",
   "metadata": {},
   "outputs": [],
   "source": [
    "reader = csv.DictReader(open('ratings.csv'))\n",
    "for index,row in enumerate(reader):\n",
    "    songID = row['song_id']\n",
    "    albumID = row['album_id']\n",
    "    playlistID = row['playlist_id']\n",
    "    if(songID == ''): songID = None\n",
    "    if(albumID == ''): albumID = None\n",
    "    if(playlistID == ''): playlistID = None\n",
    "    cursor.execute(add_rating,(row['user'],row['rating'],row['type'],songID,albumID,playlistID,row['date']))\n",
    "mydb.commit()  "
   ]
  },
  {
   "cell_type": "code",
   "execution_count": 23,
   "id": "671477e8-f5b6-400f-a45f-bbcb66b55706",
   "metadata": {},
   "outputs": [
    {
     "name": "stdout",
     "output_type": "stream",
     "text": [
      "3. What were the top 10 most highly rated albums (highest average user rating) in the period 1990-1999? Break ties using alphabetical order of album names. (Period refers to the rating date, NOT the date of release).\n",
      "('Babymetal', Decimal('4.0'))\n",
      "('Looking Glass', Decimal('4.0'))\n",
      "('Today', Decimal('4.0'))\n",
      "('Goodbye Yellow Brick Road', Decimal('3.0'))\n",
      "('Love Will Keep Us Together', Decimal('3.0'))\n",
      "('Strange Days', Decimal('3.0'))\n",
      "('Tha Doggfather', Decimal('3.0'))\n",
      "('Toys in the Attic', Decimal('3.0'))\n",
      "('What You See is What You Get', Decimal('3.0'))\n",
      "('B.G. in Hi-Fi', Decimal('2.0'))\n"
     ]
    }
   ],
   "source": [
    "print(\"3. What were the top 10 most highly rated albums (highest average user rating) in the period 1990-1999? Break ties using alphabetical order of album names. (Period refers to the rating date, NOT the date of release).\")\n",
    "query = (\"select album_title as album_name,round(avg(rating_number),1) as average_user_rating from album AB, rating R \\\n",
    "            where AB.id = R.album_id and R.type='album' and year(R.date) between 1990 and 1999 group by album_name \\\n",
    "            order by average_user_rating desc, album_name limit 10\")\n",
    "doquery(query)"
   ]
  },
  {
   "cell_type": "code",
   "execution_count": 24,
   "id": "c5831490-d316-4f7f-9d12-f76b770e6148",
   "metadata": {},
   "outputs": [
    {
     "name": "stdout",
     "output_type": "stream",
     "text": [
      "4. Which were the top 3 most rated genres (this is the number of ratings of songs in genres, not the actual rating scores) in the years 1991-1995? (Years refers to the rating date, NOT the date of release).\n",
      "('hip hop', 1)\n",
      "('blues', 1)\n",
      "('k-pop', 1)\n"
     ]
    }
   ],
   "source": [
    "print(\"4. Which were the top 3 most rated genres (this is the number of ratings of songs in genres, not the actual rating scores) in the years 1991-1995? (Years refers to the rating date, NOT the date of release).\")\n",
    "query = \"select SG.genre as genre,count(*) as number_of_song_ratings from song S,song_genre SG, rating R \\\n",
    "            where S.id = SG.song_id and S.id = R.song_id and SG.song_id = R.song_id and R.type='song' and year(R.date) between 1991 and 1995 \\\n",
    "            group by genre order by count(*) desc limit 3\"\n",
    "doquery(query)"
   ]
  },
  {
   "cell_type": "code",
   "execution_count": 25,
   "id": "1ae994a0-2050-4559-8704-bb98c9578886",
   "metadata": {},
   "outputs": [
    {
     "name": "stdout",
     "output_type": "stream",
     "text": [
      "5. Which users have a playlist that has an average song rating of 4.0 or more? \n",
      "(This is the average of the average song rating for each song in the playlist.) \n",
      " A user may appear multiple times in the result if more than one of their playlists make the cut.\n",
      "('DavidThompson', '90s', Decimal('5.0'))\n"
     ]
    }
   ],
   "source": [
    "print(\"5. Which users have a playlist that has an average song rating of 4.0 or more? \\n(This is the average of the average song rating for each song in the playlist.) \\n A user may appear multiple times in the result if more than one of their playlists make the cut.\")\n",
    "query2 = \"select user,playlist_title,round(avg(avg_rating),1) as average_song_rating from song_playlist SP,playlist P, \\\n",
    "          (select song_id,round(avg(rating_number),1) as avg_rating from rating R where R.type='song' group by song_id) SA \\\n",
    "          where SP.playlist_id = P.id and SA.song_id = SP.song_id\\\n",
    "          group by playlist_id having average_song_rating >= 4.0 order by average_song_rating\"\n",
    "\n",
    "doquery(query2)"
   ]
  },
  {
   "cell_type": "code",
   "execution_count": 26,
   "id": "ff39100b-ec32-4bd1-9342-793566d10f81",
   "metadata": {},
   "outputs": [
    {
     "name": "stdout",
     "output_type": "stream",
     "text": [
      "6. Who are the top 5 most engaged users in terms of number of ratings that they have given to songs or albums? \n",
      "(In other words, they have given the most number of ratings to songs or albums combined.)\n",
      "('futureOfPast07', 10)\n",
      "('pstar7', 10)\n",
      "('fruitPunchSamurai', 10)\n",
      "('doubleDribbleStork2019', 10)\n",
      "('willabyWallabyIII', 9)\n"
     ]
    }
   ],
   "source": [
    "print(\"6. Who are the top 5 most engaged users in terms of number of ratings that they have given to songs or albums? \\n(In other words, they have given the most number of ratings to songs or albums combined.)\")\n",
    "query = \"select user as username, count(*) as number_of_ratings from rating R \\\n",
    "        where R.type != 'playlist' group by username order by count(*) desc limit 5\"\n",
    "doquery(query)"
   ]
  },
  {
   "cell_type": "code",
   "execution_count": 27,
   "id": "90015f07-3faf-4872-a4ce-59d17049e760",
   "metadata": {},
   "outputs": [
    {
     "name": "stdout",
     "output_type": "stream",
     "text": [
      "9. Find the top 20 most rated singles (songs that are not part of an album). Most rated meaning number of ratings, not actual rating scores. The result must have 3 columns, named song_title, artist_name, number_of_ratings.\n",
      "('What a Wonderful World', 'Louis Armstrong', 2)\n",
      "(\"Don't Be Cruel\", 'Elvis Presley', 2)\n",
      "('Permission to Dance', 'BTS', 2)\n",
      "(\"driver's license\", 'Olivia Rodrigo', 2)\n",
      "('Can You Feel The Love Tonight', 'Elton John', 1)\n",
      "(\"Drop It Like It's Hot\", 'Snoop Dogg', 1)\n",
      "('dÃ©jÃ\\xa0 vu', 'Olivia Rodrigo', 1)\n",
      "('good 4 u', 'Olivia Rodrigo', 1)\n"
     ]
    }
   ],
   "source": [
    "print(\"9. Find the top 20 most rated singles (songs that are not part of an album). Most rated meaning number of ratings, not actual rating scores. The result must have 3 columns, named song_title, artist_name, number_of_ratings.\")\n",
    "\n",
    "query = \"select song_title,artist_name,count(*) as number_of_ratings from artist A, song S, rating R \\\n",
    "         where R.type='song' and R.song_id = S.id and S.artist_id = A.id and S.album_release is null group by song_title \\\n",
    "         order by count(*) desc\"\n",
    "doquery(query)"
   ]
  },
  {
   "cell_type": "code",
   "execution_count": 28,
   "id": "ba86f143-84a5-4f60-b729-d1062d6ac929",
   "metadata": {},
   "outputs": [],
   "source": [
    "cursor.close()\n",
    "mydb.close()"
   ]
  },
  {
   "cell_type": "code",
   "execution_count": null,
   "id": "df67a2a1-7fb9-410c-8d4e-7ff8f193d2dc",
   "metadata": {},
   "outputs": [],
   "source": []
  }
 ],
 "metadata": {
  "kernelspec": {
   "display_name": "Python 3 (ipykernel)",
   "language": "python",
   "name": "python3"
  },
  "language_info": {
   "codemirror_mode": {
    "name": "ipython",
    "version": 3
   },
   "file_extension": ".py",
   "mimetype": "text/x-python",
   "name": "python",
   "nbconvert_exporter": "python",
   "pygments_lexer": "ipython3",
   "version": "3.9.7"
  }
 },
 "nbformat": 4,
 "nbformat_minor": 5
}
