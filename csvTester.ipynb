{
 "cells": [
  {
   "cell_type": "code",
   "execution_count": 2,
   "id": "31a02444-aa0d-489c-b2fa-3535980a4a08",
   "metadata": {},
   "outputs": [],
   "source": [
    "import csv"
   ]
  },
  {
   "cell_type": "code",
   "execution_count": 3,
   "id": "b58a6f7b-9e49-4029-a3fc-b85dff3665c0",
   "metadata": {},
   "outputs": [
    {
     "name": "stdout",
     "output_type": "stream",
     "text": [
      "0 {'artist_name': 'Aerosmith'}\n",
      "1 {'artist_name': 'David Bowie'}\n",
      "2 {'artist_name': 'Queen'}\n",
      "3 {'artist_name': 'Louis Armstrong'}\n",
      "4 {'artist_name': 'Elvis Presley'}\n",
      "5 {'artist_name': 'The Doors'}\n",
      "6 {'artist_name': 'Elton John'}\n",
      "7 {'artist_name': 'Benny Goodman'}\n",
      "8 {'artist_name': 'Luke Combs'}\n",
      "9 {'artist_name': 'BTS'}\n",
      "10 {'artist_name': 'BABYMETAL'}\n",
      "11 {'artist_name': 'Snoop Dogg'}\n",
      "12 {'artist_name': 'Bad Bunny'}\n",
      "13 {'artist_name': 'The Captain and Tenille'}\n",
      "14 {'artist_name': 'Looking Glass'}\n",
      "15 {'artist_name': 'Olivia Rodrigo'}\n"
     ]
    }
   ],
   "source": [
    "reader = csv.DictReader(open('artists.csv'))\n",
    "for index,row in enumerate(reader):\n",
    "    print(index,row)"
   ]
  },
  {
   "cell_type": "code",
   "execution_count": null,
   "id": "267cd2be-af21-4970-8260-90b22e0c238a",
   "metadata": {},
   "outputs": [],
   "source": []
  }
 ],
 "metadata": {
  "kernelspec": {
   "display_name": "Python 3 (ipykernel)",
   "language": "python",
   "name": "python3"
  },
  "language_info": {
   "codemirror_mode": {
    "name": "ipython",
    "version": 3
   },
   "file_extension": ".py",
   "mimetype": "text/x-python",
   "name": "python",
   "nbconvert_exporter": "python",
   "pygments_lexer": "ipython3",
   "version": "3.9.7"
  }
 },
 "nbformat": 4,
 "nbformat_minor": 5
}
